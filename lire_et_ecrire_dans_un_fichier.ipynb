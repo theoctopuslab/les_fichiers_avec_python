{
 "cells": [
  {
   "cell_type": "markdown",
   "metadata": {},
   "source": [
    "# Fichiers .txt\n",
    "\n",
    "Salut à tous! Je m'appelle Quentin et bienvenue dans mon cours “Comment lire et écrire un fichier .txt”."
   ]
  },
  {
   "cell_type": "code",
   "execution_count": 1,
   "metadata": {},
   "outputs": [],
   "source": [
    "# Chemin de mon fichier texte.\n",
    "txt_file_path = \"F:/OctopusLab/dev/git/les_fichiers_avec_python/ressources/txt/Python_zen.txt\"\n",
    "out_txt_file = \"F:/OctopusLab/dev/git/les_fichiers_avec_python/ressources/txt/outfile.txt\"\n",
    "mode_path = \"F:/OctopusLab/dev/git/les_fichiers_avec_python/ressources/txt/opening_modes.txt\""
   ]
  },
  {
   "cell_type": "markdown",
   "metadata": {},
   "source": [
    "Nous allons voir comment ouvrir et fermer un fichier texte\n",
    "\n",
    "- **open(file_path, mode)** : Ouvrir le fichier donné pour realiser une opération en fonction du mode.\n",
    "- **close()** : Fermer le fichier."
   ]
  },
  {
   "cell_type": "code",
   "execution_count": 2,
   "metadata": {},
   "outputs": [],
   "source": [
    "# Ouverture en mode lecture et fermeture du fichier texte.\n",
    "f = open(txt_file_path,'r')\n",
    "f.close()"
   ]
  },
  {
   "cell_type": "markdown",
   "metadata": {},
   "source": [
    "Il existe une autre facon d'ouvrir et fermer un fichier.\n",
    "\n",
    "- **with** : permet de fermer correctement et automatiquement le fichier même si une exception est levée. De plus c’est beaucoup plus court que d’utiliser l'équivalent avec try … finally\n",
    "\n",
    "- **read()** : Lire le contenu du fichier et renvoie une string."
   ]
  },
  {
   "cell_type": "code",
   "execution_count": 3,
   "metadata": {},
   "outputs": [
    {
     "name": "stdout",
     "output_type": "stream",
     "text": [
      "r for reading : The file pointer is placed at the beginning of the file. This is the default mode.\n",
      "r+ Opens a file for both reading and writing. The file pointer will be at the beginning of the file.\n",
      "w Opens a file for writing only. Overwrites the file if the file exists. If the file does not exist, creates a new file for writing.\n",
      "w+ Opens a file for both writing and reading. Overwrites the existing file if the file exists. If the file does not exist, it creates a new file for reading and writing.\n",
      "rb Opens a file for reading only in binary format. The file pointer is placed at the beginning of the file.\n",
      "rb+ Opens a file for both reading and writing in binary format.\n",
      "wb+ Opens a file for both writing and reading in binary format. Overwrites the existing file if the file exists. If the file does not exist, it creates a new file for reading and writing.\n",
      "a Opens a file for appending. The file pointer is at the end of the file if the file exists. That is, the file is in the append mode. If the file does not exist, it creates a new file for writing.\n",
      "ab Opens a file for appending in binary format. The file pointer is at the end of the file if the file exists. That is, the file is in the append mode. If the file does not exist, it creates a new file for writing.\n",
      "a+ Opens a file for both appending and reading. The file pointer is at the end of the file if the file exists. The file opens in the append mode. If the file does not exist, it creates a new file for reading and writing.\n",
      "ab+ Opens a file for both appending and reading in binary format. The file pointer is at the end of the file if the file exists. The file opens in the append mode. If the file does not exist, it creates a new file for reading and writing.\n",
      "x open for exclusive creation, failing if the file already exists (Python 3)\n"
     ]
    }
   ],
   "source": [
    "# Ouverture et fermeture du fichier texte en utilisant with.\n",
    "with open(mode_path) as f:\n",
    "    # Stocker le texte du fichier dans une string.\n",
    "    text = f.read()\n",
    "    print(text)"
   ]
  },
  {
   "cell_type": "markdown",
   "metadata": {},
   "source": [
    "Il est possible d'ouvrir plusieurs fichiers en meme temps.\n",
    "Nous allons lire un fichier, puis ecrire son contenu dans un autre fichier.\n",
    "\n",
    "- **write()** : Écrire dans le fichier."
   ]
  },
  {
   "cell_type": "code",
   "execution_count": 4,
   "metadata": {},
   "outputs": [],
   "source": [
    "with open(out_txt_file, 'w') as dst_file_obj, open(txt_file_path, 'r') as src_file_obj:\n",
    "    data = src_file_obj.read()\n",
    "    dst_file_obj.write(data)"
   ]
  },
  {
   "cell_type": "markdown",
   "metadata": {},
   "source": [
    "Nous pouvons lire un fichier ligne par ligne.\n",
    "\n",
    "- **readline()** : Lire une ligne du fichier."
   ]
  },
  {
   "cell_type": "code",
   "execution_count": 5,
   "metadata": {},
   "outputs": [
    {
     "name": "stdout",
     "output_type": "stream",
     "text": [
      "r for reading : The file pointer is placed at the beginning of the file. This is the default mode.\n",
      "\n",
      "r+ Opens a file for both reading and writing. The file pointer will be at the beginning of the file.\n",
      "\n"
     ]
    }
   ],
   "source": [
    "f = open(mode_path,'r')\n",
    "# Afficher la premiere ligne du fichier.\n",
    "print(f.readline())\n",
    "# Afficher la ligne suivante du fichier.\n",
    "print(f.readline())\n",
    "f.close()"
   ]
  },
  {
   "cell_type": "markdown",
   "metadata": {},
   "source": [
    "Pour lire toutes les lignes d'un fichier.\n",
    "\n",
    "- **readlines()** : Lire chaque ligne du fichier et renvoie un liste contenant les lignes."
   ]
  },
  {
   "cell_type": "code",
   "execution_count": 6,
   "metadata": {},
   "outputs": [
    {
     "name": "stdout",
     "output_type": "stream",
     "text": [
      "['Beautiful is better than ugly.\\n', 'Explicit is better than implicit.\\n', 'Simple is better than complex.\\n', 'Complex is better than complicated.\\n', 'Flat is better than nested.\\n', 'Sparse is better than dense.\\n', 'Readability counts.\\n', \"Special cases aren't special enough to break the rules.\\n\", 'Although practicality beats purity.\\n', 'Errors should never pass silently.\\n', 'Unless explicitly silenced.\\n', 'In the face of ambiguity, refuse the temptation to guess.\\n', 'There should be one, and preferably only one, obvious way to do it.\\n', \"Although that way may not be obvious at first unless you're Dutch.\\n\", 'Now is better than never.\\n', 'Although never is often better than right now.\\n', \"If the implementation is hard to explain, it's a bad idea.\\n\", 'If the implementation is easy to explain, it may be a good idea.\\n', \"Namespaces are one honking great idea, let's do more of those!\"]\n"
     ]
    }
   ],
   "source": [
    "with open(txt_file_path) as f:\n",
    "    # Stocker les lignes du fichier dans une liste.\n",
    "    lines = f.readlines()\n",
    "    print(lines)"
   ]
  },
  {
   "cell_type": "markdown",
   "metadata": {},
   "source": [
    "Il est possible de recuperer le contenu d'un fichier ligne par ligne en utilisant une boucle for."
   ]
  },
  {
   "cell_type": "code",
   "execution_count": 7,
   "metadata": {},
   "outputs": [
    {
     "name": "stdout",
     "output_type": "stream",
     "text": [
      "Beautiful is better than ugly.\n",
      "Explicit is better than implicit.\n",
      "Simple is better than complex.\n",
      "Complex is better than complicated.\n",
      "Flat is better than nested.\n",
      "Sparse is better than dense.\n",
      "Readability counts.\n",
      "Special cases aren't special enough to break the rules.\n",
      "Although practicality beats purity.\n",
      "Errors should never pass silently.\n",
      "Unless explicitly silenced.\n",
      "In the face of ambiguity, refuse the temptation to guess.\n",
      "There should be one, and preferably only one, obvious way to do it.\n",
      "Although that way may not be obvious at first unless you're Dutch.\n",
      "Now is better than never.\n",
      "Although never is often better than right now.\n",
      "If the implementation is hard to explain, it's a bad idea.\n",
      "If the implementation is easy to explain, it may be a good idea.\n",
      "Namespaces are one honking great idea, let's do more of those!\n"
     ]
    }
   ],
   "source": [
    "with open(txt_file_path) as f:\n",
    "    for line in f:\n",
    "        print(line.strip())"
   ]
  },
  {
   "cell_type": "markdown",
   "metadata": {},
   "source": [
    "Et pour terminer ce cours nous allons voir comment faire pour ecrire un fichier ligne par ligne."
   ]
  },
  {
   "cell_type": "code",
   "execution_count": 8,
   "metadata": {},
   "outputs": [],
   "source": [
    "end_file = \"F:/Workspaces/devenv/OctopusLab/end_file.txt\"\n",
    "with open(end_file, \"w\") as f:\n",
    "    # Ecrire dans le fichier.\n",
    "    f.write(\"Abonnez-vous :)\\n\")\n",
    "    f.write(\"N'oubliez pas le pouce bleu et d'activer la cloche!\\n\")"
   ]
  },
  {
   "cell_type": "markdown",
   "metadata": {},
   "source": [
    "\n",
    "\n",
    "\n",
    "# Fichiers .csv\n",
    "\n",
    "Salut à tous! Je m'appelle Quentin et bienvenue dans mon cours “Comment lire et écrire un fichier .csv”.\n",
    "\n",
    "- **import csv** : Importer la librairie CSV."
   ]
  },
  {
   "cell_type": "code",
   "execution_count": 9,
   "metadata": {},
   "outputs": [],
   "source": [
    "import csv\n",
    "\n",
    "sample_csv = \"F:/OctopusLab/dev/git/les_fichiers_avec_python/ressources/csv/sample.csv\""
   ]
  },
  {
   "cell_type": "markdown",
   "metadata": {},
   "source": [
    "- **csv.reader()** : Lire les lignes du fichier CSV (list)."
   ]
  },
  {
   "cell_type": "code",
   "execution_count": 10,
   "metadata": {},
   "outputs": [
    {
     "name": "stdout",
     "output_type": "stream",
     "text": [
      "['Identifier', 'Access code', 'Recovery code', 'First name', 'Last name', 'Department', 'Location']\n",
      "['9012', '12se74', 'rb9012', 'Rachel', 'Booker', 'Sales', 'Manchester']\n",
      "['2070', '04ap67', 'lg2070', 'Laura', 'Grey', 'Depot', 'London']\n",
      "['4081', '30no86', 'cj4081', 'Craig', 'Johnson', 'Depot', 'London']\n",
      "['9346', '14ju73', 'mj9346', 'Mary', 'Jenkins', 'Engineering', 'Manchester']\n",
      "['5079', '09ja61', 'js5079', 'Jamie', 'Smith', 'Engineering', 'Manchester']\n"
     ]
    }
   ],
   "source": [
    "# Ouvrir un fichier CSV et le lire ligne par ligne. \n",
    "with open(sample_csv,'r') as csv_file:\n",
    "    csv_reader = csv.reader(csv_file)\n",
    "    for line in csv_reader:\n",
    "        print(line)"
   ]
  },
  {
   "cell_type": "markdown",
   "metadata": {},
   "source": [
    "- **csv.DictReader()** : Lire les lignes du fichier CSV (ordered dict)."
   ]
  },
  {
   "cell_type": "code",
   "execution_count": 11,
   "metadata": {},
   "outputs": [
    {
     "name": "stdout",
     "output_type": "stream",
     "text": [
      "Rachel Booker works in the Sales department at Manchester office.\n",
      "Laura Grey works in the Depot department at London office.\n",
      "Craig Johnson works in the Depot department at London office.\n",
      "Mary Jenkins works in the Engineering department at Manchester office.\n",
      "Jamie Smith works in the Engineering department at Manchester office.\n"
     ]
    }
   ],
   "source": [
    "# Ouvrir un fichier CSV et le lire ligne par ligne avec DictReader. \n",
    "with open(sample_csv,'r') as csv_file:\n",
    "    csv_reader = csv.DictReader(csv_file)\n",
    "\n",
    "    for line in csv_reader:\n",
    "        print(\"{first_name} {last_name} works \"\n",
    "              \"in the {department} department \"\n",
    "              \"at {city} office.\".format(first_name=line[\"First name\"],\n",
    "                                        last_name=line[\"Last name\"],\n",
    "                                        department=line[\"Department\"],\n",
    "                                        city=line[\"Location\"]))"
   ]
  },
  {
   "cell_type": "markdown",
   "metadata": {},
   "source": [
    "- **csv.writer()** : Utiliser une liste de string pour écrire la ligne.\n",
    "- **writerow()** : Écrire une ligne."
   ]
  },
  {
   "cell_type": "code",
   "execution_count": 12,
   "metadata": {},
   "outputs": [],
   "source": [
    "employee_file = \"F:/Workspaces/devenv/OctopusLab/employee_file.csv\"\n",
    "\n",
    "header = ['emp_name', 'dept', 'birth_month']\n",
    "\n",
    "with open(employee_file, mode='w', newline='') as csv_file:\n",
    "    writer = csv.writer(csv_file, delimiter=',')\n",
    "    writer.writerow(header)\n",
    "    writer.writerow(['John Smith', 'Accounting', 'November'])\n",
    "    writer.writerow(['Erica Meyers', 'IT', 'March'])"
   ]
  },
  {
   "cell_type": "markdown",
   "metadata": {},
   "source": [
    "- **writerows()** : Écrire plusieurs ligne en donnant une liste de dict.\n",
    "- **writeheader()** : Écrire le nom des champs des valeurs.\n",
    "- **csv.DictWriter()** : Utiliser un dict pour remplir les champs à écrire."
   ]
  },
  {
   "cell_type": "code",
   "execution_count": 13,
   "metadata": {},
   "outputs": [],
   "source": [
    "employee_file = \"F:/OctopusLab/dev/git/les_fichiers_avec_python/ressources/csv/employee_file2.csv\"\n",
    "\n",
    "persons=[{'emp_name': 'John Smith', 'dept': 'Accounting', 'birth_month': 'November'}, \n",
    "         {'emp_name': 'Erica Meyers', 'dept': 'IT', 'birth_month': 'March'}]\n",
    "\n",
    "with open(employee_file, mode='w', newline='') as csv_file:\n",
    "    fieldnames = ['emp_name', 'dept', 'birth_month']\n",
    "    \n",
    "    writer = csv.DictWriter(csv_file, fieldnames=fieldnames)\n",
    "    writer.writeheader()\n",
    "    writer.writerows(persons)"
   ]
  },
  {
   "cell_type": "code",
   "execution_count": 14,
   "metadata": {},
   "outputs": [
    {
     "name": "stdout",
     "output_type": "stream",
     "text": [
      "['emp_name', 'dept', 'birth_month']\n",
      "['John Smith', 'Accounting', 'November']\n",
      "['Erica Meyers', 'IT', 'March']\n"
     ]
    }
   ],
   "source": [
    "with open(employee_file,'r') as csv_file:\n",
    "    csv_reader = csv.reader(csv_file)\n",
    "    for line in csv_reader:\n",
    "        print(line)"
   ]
  },
  {
   "cell_type": "markdown",
   "metadata": {},
   "source": [
    "\n",
    "\n",
    "\n",
    "# Fichiers .json\n",
    "\n",
    "Salut à tous! Je m'appelle Quentin et bienvenue dans mon cours “Comment lire et écrire un fichier .json”.\n",
    "\n",
    "- **import json** : Importer la librairie JSON.\n",
    "- **json.load()** : Lire un objet JSON et retourne un dict."
   ]
  },
  {
   "cell_type": "code",
   "execution_count": 15,
   "metadata": {},
   "outputs": [],
   "source": [
    "import json\n",
    "import pprint\n",
    "\n",
    "read_json = \"F:/OctopusLab/dev/git/les_fichiers_avec_python/ressources/json/sample.json\"\n",
    "write_json = \"F:/OctopusLab/dev/git/les_fichiers_avec_python/ressources/json/sample2.json\""
   ]
  },
  {
   "cell_type": "code",
   "execution_count": 16,
   "metadata": {},
   "outputs": [
    {
     "name": "stdout",
     "output_type": "stream",
     "text": [
      "<class 'dict'>\n",
      "{'batters': {'batter': [{'id': '1001', 'type': 'Regular'},\n",
      "                        {'id': '1002', 'type': 'Chocolate'},\n",
      "                        {'id': '1003', 'type': 'Blueberry'},\n",
      "                        {'id': '1004', 'type': \"Devil's Food\"}]},\n",
      " 'id': '0001',\n",
      " 'name': 'Cake',\n",
      " 'ppu': 0.55,\n",
      " 'topping': [{'id': '5001', 'type': 'None'},\n",
      "             {'id': '5002', 'type': 'Glazed'},\n",
      "             {'id': '5005', 'type': 'Sugar'},\n",
      "             {'id': '5007', 'type': 'Powdered Sugar'},\n",
      "             {'id': '5006', 'type': 'Chocolate with Sprinkles'},\n",
      "             {'id': '5003', 'type': 'Chocolate'},\n",
      "             {'id': '5004', 'type': 'Maple'}],\n",
      " 'type': 'donut'}\n"
     ]
    }
   ],
   "source": [
    "# Lire un fichier JSON.\n",
    "with open(read_json, \"r\") as json_file:\n",
    "    data = json.load(json_file)\n",
    "    print(type(data))\n",
    "    pprint.pprint(data)"
   ]
  },
  {
   "cell_type": "markdown",
   "metadata": {},
   "source": [
    "- **json.dump()** : Créer un objet JSON à partir d'un dict.\n",
    "- **json.dumps()** : Convertir un objet Python en une string."
   ]
  },
  {
   "cell_type": "code",
   "execution_count": 17,
   "metadata": {},
   "outputs": [
    {
     "name": "stdout",
     "output_type": "stream",
     "text": [
      "<class 'str'>\n",
      "{\n",
      "    \"Chocolate\":[\n",
      "        {\n",
      "            \"id\":\"5004\",\n",
      "            \"type\":\"Chocolate with Sprinkles\"\n",
      "        },\n",
      "        {\n",
      "            \"id\":\"5005\",\n",
      "            \"type\":\"Chocolate\"\n",
      "        }\n",
      "    ],\n",
      "    \"Sirop\":[\n",
      "        {\n",
      "            \"id\":\"5006\",\n",
      "            \"type\":\"Maple\"\n",
      "        }\n",
      "    ],\n",
      "    \"Sugar\":[\n",
      "        {\n",
      "            \"id\":\"5001\",\n",
      "            \"type\":\"Glazed\"\n",
      "        },\n",
      "        {\n",
      "            \"id\":\"5002\",\n",
      "            \"type\":\"Powdered Sugar\"\n",
      "        },\n",
      "        {\n",
      "            \"id\":\"5003\",\n",
      "            \"type\":\"Sugar\"\n",
      "        }\n",
      "    ]\n",
      "}\n"
     ]
    }
   ],
   "source": [
    "data = {\"Sugar\": [{ \"id\": \"5001\", \"type\": \"Glazed\" },\n",
    "                  { \"id\": \"5002\", \"type\": \"Powdered Sugar\" },\n",
    "                  { \"id\": \"5003\", \"type\": \"Sugar\" }],\n",
    "        \"Chocolate\": [{ \"id\": \"5004\", \"type\": \"Chocolate with Sprinkles\" },\n",
    "                      { \"id\": \"5005\", \"type\": \"Chocolate\" }],\n",
    "        \"Sirop\": [{ \"id\": \"5006\", \"type\": \"Maple\" }]\n",
    "       }\n",
    "\n",
    "# Ecrire un objet Python dans un fichier JSON.\n",
    "with open(write_json, \"w\") as json_file:\n",
    "    json.dump(data, json_file, indent = 4)\n",
    "    \n",
    "    \n",
    "    json_string = json.dumps(data, sort_keys=True, separators=(',',':'), indent=4)\n",
    "    print(type(json_string))\n",
    "    print(json_string)"
   ]
  },
  {
   "cell_type": "markdown",
   "metadata": {},
   "source": [
    "- **json.loads()** : Lire un objet JSON et retourne un dict.\n"
   ]
  },
  {
   "cell_type": "code",
   "execution_count": 18,
   "metadata": {},
   "outputs": [
    {
     "name": "stdout",
     "output_type": "stream",
     "text": [
      "<class 'dict'>\n",
      "{'console': 'Playstation 5',\n",
      " 'games': ['Spiderman', 'FIFA', 'NBA', 'Gran Turismo', 'Grand Theft Auto']}\n"
     ]
    }
   ],
   "source": [
    "# Convertir une string en dict.\n",
    "data = '{\"console\": \"Playstation 5\", \"games\": [\"Spiderman\", \"FIFA\", \"NBA\", \"Gran Turismo\", \"Grand Theft Auto\"]}'\n",
    "data = json.loads(data)\n",
    "\n",
    "print(type(data))\n",
    "pprint.pprint(data)"
   ]
  },
  {
   "cell_type": "markdown",
   "metadata": {},
   "source": [
    "# Fichiers .yaml\n",
    "\n",
    "Salut à tous! Je m'appelle Quentin et bienvenue dans mon cours “Comment lire et écrire un fichier .yaml”."
   ]
  },
  {
   "cell_type": "markdown",
   "metadata": {},
   "source": [
    "- **import yaml** : Importer la librairie YAML.\n",
    "- **yaml.load()** : Lire un objet YAML et retourne un dict."
   ]
  },
  {
   "cell_type": "code",
   "execution_count": 19,
   "metadata": {},
   "outputs": [
    {
     "name": "stdout",
     "output_type": "stream",
     "text": [
      "{'apples': 20, 'mangoes': 2, 'bananas': 3, 'grapes': 100, 'pineapples': 1}\n"
     ]
    }
   ],
   "source": [
    "import yaml\n",
    "\n",
    "read_yaml = \"F:/OctopusLab/dev/git/les_fichiers_avec_python/ressources/yml/sample.yaml\"\n",
    "\n",
    "with open(read_yaml, \"r\") as yaml_file:\n",
    "    # The FullLoader parameter handles the conversion from YAML\n",
    "    # scalar values to Python the dictionary format\n",
    "    fruits_dict = yaml.load(yaml_file, Loader=yaml.FullLoader)\n",
    "\n",
    "    print(fruits_dict)"
   ]
  },
  {
   "cell_type": "markdown",
   "metadata": {},
   "source": [
    "- **yaml.full_load()** : Lire un objet YAML et retourne un dict."
   ]
  },
  {
   "cell_type": "code",
   "execution_count": 20,
   "metadata": {
    "scrolled": true
   },
   "outputs": [
    {
     "name": "stdout",
     "output_type": "stream",
     "text": [
      "apples : 20\n",
      "mangoes : 2\n",
      "bananas : 3\n",
      "grapes : 100\n",
      "pineapples : 1\n",
      "----------\n",
      "apples: 20\n",
      "bananas: 3\n",
      "grapes: 100\n",
      "mangoes: 2\n",
      "pineapples: 1\n",
      "\n"
     ]
    }
   ],
   "source": [
    "with open(read_yaml, \"r\") as yaml_file:\n",
    "    document = yaml.full_load(yaml_file)\n",
    "\n",
    "    for item, nb in document.items():\n",
    "        print(item, \":\", nb)\n",
    "        \n",
    "    print(\"-\"*10) \n",
    "    \n",
    "    data = yaml.dump(document, sort_keys=True)\n",
    "    print(data)"
   ]
  },
  {
   "cell_type": "markdown",
   "metadata": {},
   "source": [
    "- **yaml.dump()** : Créer un objet YAML à partir d'une liste ou un dictionnaire."
   ]
  },
  {
   "cell_type": "code",
   "execution_count": 21,
   "metadata": {},
   "outputs": [],
   "source": [
    "write_yaml = \"F:/OctopusLab/dev/git/les_fichiers_avec_python/ressources/yml/output.yaml\"\n",
    "\n",
    "dict_file = [{'sports' : ['soccer', 'football', 'basketball', 'cricket', 'hockey', 'table tennis']},\n",
    "{'countries' : ['Canada', 'USA', 'India', 'China', 'Germany', 'France', 'Spain']}]\n",
    "\n",
    "with open(write_yaml, 'w') as yaml_file:\n",
    "    yaml.dump(dict_file, yaml_file)"
   ]
  }
 ],
 "metadata": {
  "kernelspec": {
   "display_name": "Python 3",
   "language": "python",
   "name": "python3"
  },
  "language_info": {
   "codemirror_mode": {
    "name": "ipython",
    "version": 3
   },
   "file_extension": ".py",
   "mimetype": "text/x-python",
   "name": "python",
   "nbconvert_exporter": "python",
   "pygments_lexer": "ipython3",
   "version": "3.7.6"
  }
 },
 "nbformat": 4,
 "nbformat_minor": 4
}
